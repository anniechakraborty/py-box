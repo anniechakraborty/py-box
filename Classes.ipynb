{
 "cells": [
  {
   "cell_type": "markdown",
   "metadata": {},
   "source": [
    "# Classes\n",
    "A class is a blueprint for creating real world objects. An object has methods (also called functions) and properties attached to it. *Almost everything in Python is an object.*\n",
    "Every class has a constructor which is a function that gets called everytime an object of the class is instantiated. "
   ]
  },
  {
   "cell_type": "markdown",
   "metadata": {},
   "source": [
    "#### Create a class"
   ]
  },
  {
   "cell_type": "code",
   "execution_count": 3,
   "metadata": {},
   "outputs": [
    {
     "name": "stdout",
     "output_type": "stream",
     "text": [
      "<class '__main__.User'>\n",
      "Hello, my name is Jo Lyn and I am 26 years old.\n"
     ]
    }
   ],
   "source": [
    "class User:\n",
    "    #Constructor\n",
    "    def __init__(self, name, email, age):\n",
    "        self.name = name\n",
    "        self.email = email\n",
    "        self.age = age\n",
    "        \n",
    "    def introduction(self):\n",
    "        return f'Hello, my name is {self.name} and I am {self.age} years old.'\n",
    "    \n",
    "    def had_birthday(self):\n",
    "        self.age += 1\n",
    "\n",
    "# Instantiate an object of User class - \n",
    "person = User('Jo Lyn', 'jolyn@gmail.com', 25)\n",
    "print(type(person))\n",
    "\n",
    "person.had_birthday()\n",
    "print(person.introduction())"
   ]
  },
  {
   "cell_type": "code",
   "execution_count": 5,
   "metadata": {},
   "outputs": [
    {
     "name": "stdout",
     "output_type": "stream",
     "text": [
      "My name is Ann C and I am 55. My balance is Rs 55000. \n"
     ]
    }
   ],
   "source": [
    "# Extending an already existing class\n",
    "class Customer(User): \n",
    "    def __init__(self, name, email, age):\n",
    "        self.name = name\n",
    "        self.email = email\n",
    "        self.age = age\n",
    "        self.balance = 0\n",
    "    \n",
    "    def set_balance(self, balance):\n",
    "        self.balance = balance\n",
    "    \n",
    "#     overwriting the introduction() in User class\n",
    "    def introduction(self):\n",
    "        return 'My name is {} and I am {}. My balance is Rs {}. '.format(self.name, self.age, self.balance)\n",
    "    \n",
    "cust = Customer('Ann C', 'annc@g.com', 55)\n",
    "cust.set_balance(55000)\n",
    "print(cust.introduction())"
   ]
  },
  {
   "cell_type": "code",
   "execution_count": null,
   "metadata": {},
   "outputs": [],
   "source": []
  }
 ],
 "metadata": {
  "kernelspec": {
   "display_name": "Python 3",
   "language": "python",
   "name": "python3"
  },
  "language_info": {
   "codemirror_mode": {
    "name": "ipython",
    "version": 3
   },
   "file_extension": ".py",
   "mimetype": "text/x-python",
   "name": "python",
   "nbconvert_exporter": "python",
   "pygments_lexer": "ipython3",
   "version": "3.7.0"
  }
 },
 "nbformat": 4,
 "nbformat_minor": 2
}
