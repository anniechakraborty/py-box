{
 "cells": [
  {
   "cell_type": "markdown",
   "metadata": {},
   "source": [
    "# Modules\n",
    "A module is basically a set of functions to include in your application. There are core python modules, modules you can install using pip package installer (including Django) as well as custom modules (pip is a Python package manager) . "
   ]
  },
  {
   "cell_type": "markdown",
   "metadata": {},
   "source": [
    "#### Importing core modules\n",
    "We will first import the datetime module. To import a module we use the **import** keyword."
   ]
  },
  {
   "cell_type": "code",
   "execution_count": 1,
   "metadata": {},
   "outputs": [
    {
     "name": "stdout",
     "output_type": "stream",
     "text": [
      "2020-05-13\n"
     ]
    }
   ],
   "source": [
    "import datetime\n",
    "today_date = datetime.date.today()\n",
    "print(today_date)"
   ]
  },
  {
   "cell_type": "code",
   "execution_count": 2,
   "metadata": {},
   "outputs": [
    {
     "name": "stdout",
     "output_type": "stream",
     "text": [
      "2020-05-13\n"
     ]
    }
   ],
   "source": [
    "# To import just a specific object - \n",
    "\n",
    "from datetime import date\n",
    "today_date = date.today()\n",
    "print(today_date)"
   ]
  },
  {
   "cell_type": "code",
   "execution_count": 5,
   "metadata": {},
   "outputs": [
    {
     "name": "stdout",
     "output_type": "stream",
     "text": [
      "1589316527.7942748\n"
     ]
    }
   ],
   "source": [
    "import time\n",
    "timestamp = time.time()\n",
    "print(timestamp)"
   ]
  },
  {
   "cell_type": "code",
   "execution_count": 6,
   "metadata": {},
   "outputs": [
    {
     "name": "stdout",
     "output_type": "stream",
     "text": [
      "1589316644.4426115\n"
     ]
    }
   ],
   "source": [
    "# Similarly, importing just the time() from the time module\n",
    "from time import time\n",
    "timestamp = time()\n",
    "print(timestamp)"
   ]
  },
  {
   "cell_type": "markdown",
   "metadata": {},
   "source": [
    "#### Importing pip modules"
   ]
  },
  {
   "cell_type": "markdown",
   "metadata": {},
   "source": [
    "To install a module via pip command write provided you have python version 3 in your system and are not using a virtual environment ( I don't know the commands for a virtual environment yet! ) `pip3 install <module name>`\n",
    "       Check your python version : `python --version`\n",
    "       Check your pip version : `pip --version`\n",
    "Run these commands are in the terminal. Run the pip install command to globally install the modules."
   ]
  },
  {
   "cell_type": "code",
   "execution_count": 7,
   "metadata": {},
   "outputs": [
    {
     "name": "stdout",
     "output_type": "stream",
     "text": [
      "Hello World I Am Annie Chakraborty\n"
     ]
    }
   ],
   "source": [
    "from camelcase import CamelCase\n",
    "c = CamelCase()\n",
    "print(c.hump('hello world i am annie chakraborty'))\n",
    "\n",
    "# hump() is a method in the CamelCase"
   ]
  },
  {
   "cell_type": "markdown",
   "metadata": {},
   "source": [
    "#### Creating a custom module"
   ]
  },
  {
   "cell_type": "code",
   "execution_count": 1,
   "metadata": {},
   "outputs": [],
   "source": [
    "import re\n",
    "\n",
    "def validate_email(email):\n",
    "    if len(email)> 7 : \n",
    "        return bool(re.match(\"^.+@(\\[?)[a-zA-Z0-9-.]+.([a-zA-Z]{2,3}|[0-9]{1,3})(]?)$\", email))"
   ]
  },
  {
   "cell_type": "markdown",
   "metadata": {},
   "source": [
    "The above code snippet imports the regular expression module which is a core module. We use the match() of this module to validate emails. Assuming that it is stored in a separate python file, say, validator.py, "
   ]
  },
  {
   "cell_type": "code",
   "execution_count": 4,
   "metadata": {},
   "outputs": [
    {
     "name": "stdout",
     "output_type": "stream",
     "text": [
      "test@test.com is valid\n"
     ]
    }
   ],
   "source": [
    "# fom validator import validate_email\n",
    "email = 'test@test.com'\n",
    "if validate_email(email):\n",
    "    print(f'{email} is valid')\n",
    "else:\n",
    "    print(f'{email} is invalid')"
   ]
  }
 ],
 "metadata": {
  "kernelspec": {
   "display_name": "Python 3",
   "language": "python",
   "name": "python3"
  },
  "language_info": {
   "codemirror_mode": {
    "name": "ipython",
    "version": 3
   },
   "file_extension": ".py",
   "mimetype": "text/x-python",
   "name": "python",
   "nbconvert_exporter": "python",
   "pygments_lexer": "ipython3",
   "version": "3.7.0"
  }
 },
 "nbformat": 4,
 "nbformat_minor": 2
}
