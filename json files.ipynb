{
 "cells": [
  {
   "cell_type": "markdown",
   "metadata": {},
   "source": [
    "json is commonly used with data APIs. Here is how to parse json into a python dictionary.\n",
    "\n",
    "First, import the json module."
   ]
  },
  {
   "cell_type": "code",
   "execution_count": 1,
   "metadata": {},
   "outputs": [],
   "source": [
    "import json"
   ]
  },
  {
   "cell_type": "code",
   "execution_count": 3,
   "metadata": {},
   "outputs": [
    {
     "name": "stdout",
     "output_type": "stream",
     "text": [
      "{'first_name': 'John', 'last_name': 'Doe', 'age': 30}\n",
      "John\n"
     ]
    }
   ],
   "source": [
    "# Sample json code\n",
    "\n",
    "userJson = '{\"first_name\" : \"John\", \"last_name\" : \"Doe\", \"age\" : 30}'\n",
    "\n",
    "# To parse this into a dictionary\n",
    "userDict = json.loads(userJson)\n",
    "print(userDict)\n",
    "print(userDict['first_name'])"
   ]
  },
  {
   "cell_type": "markdown",
   "metadata": {},
   "source": [
    "Taking a pyhton dictionary and converting it into json code"
   ]
  },
  {
   "cell_type": "code",
   "execution_count": 4,
   "metadata": {},
   "outputs": [
    {
     "name": "stdout",
     "output_type": "stream",
     "text": [
      "{\"make\": \"Ford\", \"model\": \"Mustang\", \"year\": 1999}\n"
     ]
    }
   ],
   "source": [
    "car = {'make': 'Ford', 'model' : 'Mustang', 'year' : 1999}\n",
    "\n",
    "carJson = json.dumps(car)\n",
    "print(carJson)"
   ]
  }
 ],
 "metadata": {
  "kernelspec": {
   "display_name": "Python 3",
   "language": "python",
   "name": "python3"
  },
  "language_info": {
   "codemirror_mode": {
    "name": "ipython",
    "version": 3
   },
   "file_extension": ".py",
   "mimetype": "text/x-python",
   "name": "python",
   "nbconvert_exporter": "python",
   "pygments_lexer": "ipython3",
   "version": "3.7.0"
  }
 },
 "nbformat": 4,
 "nbformat_minor": 2
}
