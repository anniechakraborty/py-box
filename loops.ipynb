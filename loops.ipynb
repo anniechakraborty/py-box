{
 "cells": [
  {
   "cell_type": "markdown",
   "metadata": {},
   "source": [
    "## For Loops\n",
    "A for loop is used for iterating over a sequence that is either a list, tuple, set, dictionary or string."
   ]
  },
  {
   "cell_type": "markdown",
   "metadata": {},
   "source": [
    "#### Creating a list"
   ]
  },
  {
   "cell_type": "code",
   "execution_count": 2,
   "metadata": {},
   "outputs": [
    {
     "name": "stdout",
     "output_type": "stream",
     "text": [
      "Curent Person : John\n",
      "Curent Person : Mark\n",
      "Curent Person : Anne\n",
      "Curent Person : Sara\n",
      "Curent Person : Susan\n",
      "Curent Person : Chloe\n",
      "Curent Person : Tom\n",
      "Curent Person : Laura\n"
     ]
    }
   ],
   "source": [
    "people = ['John', 'Mark', 'Anne', 'Sara', 'Susan', 'Chloe', 'Tom', 'Laura']\n",
    "\n",
    "# Simple for-loop\n",
    "\n",
    "for person in people:\n",
    "    print(f'Curent Person : {person}')"
   ]
  },
  {
   "cell_type": "code",
   "execution_count": 3,
   "metadata": {},
   "outputs": [
    {
     "name": "stdout",
     "output_type": "stream",
     "text": [
      "Current Person : John\n",
      "Current Person : Mark\n",
      "Current Person : Anne\n",
      "Current Person : Sara\n"
     ]
    }
   ],
   "source": [
    "# Break statement\n",
    "for person in people:\n",
    "    if person == 'Susan':\n",
    "        break\n",
    "    print(f'Current Person : {person}')"
   ]
  },
  {
   "cell_type": "code",
   "execution_count": 4,
   "metadata": {},
   "outputs": [
    {
     "name": "stdout",
     "output_type": "stream",
     "text": [
      "Current Person : John\n",
      "Current Person : Mark\n",
      "Current Person : Anne\n",
      "Current Person : Sara\n",
      "Current Person : Chloe\n",
      "Current Person : Tom\n",
      "Current Person : Laura\n"
     ]
    }
   ],
   "source": [
    "# Continue statement\n",
    "for person in people:\n",
    "    if person == 'Susan':\n",
    "        continue\n",
    "    print(f'Current Person : {person}')"
   ]
  },
  {
   "cell_type": "markdown",
   "metadata": {},
   "source": [
    "Using range(): range() takes a number upto which the loop will iterate."
   ]
  },
  {
   "cell_type": "code",
   "execution_count": 5,
   "metadata": {},
   "outputs": [
    {
     "name": "stdout",
     "output_type": "stream",
     "text": [
      " Number 0 person : John\n",
      " Number 1 person : Mark\n",
      " Number 2 person : Anne\n",
      " Number 3 person : Sara\n",
      " Number 4 person : Susan\n",
      " Number 5 person : Chloe\n",
      " Number 6 person : Tom\n",
      " Number 7 person : Laura\n"
     ]
    }
   ],
   "source": [
    "for i in range(len(people)):\n",
    "    print(f' Number {i} person : {people[i]}')"
   ]
  },
  {
   "cell_type": "code",
   "execution_count": 6,
   "metadata": {},
   "outputs": [
    {
     "name": "stdout",
     "output_type": "stream",
     "text": [
      "0\n",
      "1\n",
      "2\n",
      "3\n",
      "4\n",
      "5\n",
      "6\n",
      "7\n",
      "8\n",
      "9\n",
      "10\n"
     ]
    }
   ],
   "source": [
    "# Using custom range values \n",
    "for i in range(0, 11):\n",
    "    print(i)"
   ]
  },
  {
   "cell_type": "markdown",
   "metadata": {},
   "source": [
    "Hence when using range, the loop iterates from the lower bound to the upper bound - 1"
   ]
  },
  {
   "cell_type": "markdown",
   "metadata": {},
   "source": [
    "## While loops\n",
    "While loops execute a set of statements as long as the condition is true."
   ]
  },
  {
   "cell_type": "code",
   "execution_count": 1,
   "metadata": {},
   "outputs": [
    {
     "name": "stdout",
     "output_type": "stream",
     "text": [
      "Count  : 0\n",
      "Count  : 2\n",
      "Count  : 4\n",
      "Count  : 6\n",
      "Count  : 8\n",
      "Count  : 10\n"
     ]
    }
   ],
   "source": [
    "count = 0\n",
    "while count <= 10:\n",
    "    print(f'Count  : {count}')\n",
    "    count += 2"
   ]
  }
 ],
 "metadata": {
  "kernelspec": {
   "display_name": "Python 3",
   "language": "python",
   "name": "python3"
  },
  "language_info": {
   "codemirror_mode": {
    "name": "ipython",
    "version": 3
   },
   "file_extension": ".py",
   "mimetype": "text/x-python",
   "name": "python",
   "nbconvert_exporter": "python",
   "pygments_lexer": "ipython3",
   "version": "3.7.0"
  }
 },
 "nbformat": 4,
 "nbformat_minor": 2
}
