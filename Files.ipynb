{
 "cells": [
  {
   "cell_type": "markdown",
   "metadata": {},
   "source": [
    "# Files\n",
    "Python has functions for creating, deleting and updating files."
   ]
  },
  {
   "cell_type": "markdown",
   "metadata": {},
   "source": [
    "#### Open a file - "
   ]
  },
  {
   "cell_type": "code",
   "execution_count": 7,
   "metadata": {},
   "outputs": [],
   "source": [
    "myFile = open('myfile.txt', 'w')"
   ]
  },
  {
   "cell_type": "markdown",
   "metadata": {},
   "source": [
    "#### Geting information on the file - "
   ]
  },
  {
   "cell_type": "code",
   "execution_count": 8,
   "metadata": {},
   "outputs": [
    {
     "name": "stdout",
     "output_type": "stream",
     "text": [
      "Name :  myfile.txt\n",
      "Is closed :  False\n",
      "Opening mode :  w\n"
     ]
    }
   ],
   "source": [
    "print('Name : ', myFile.name)\n",
    "print('Is closed : ', myFile.closed)\n",
    "print('Opening mode : ', myFile.mode)"
   ]
  },
  {
   "cell_type": "markdown",
   "metadata": {},
   "source": [
    "#### Write to file - "
   ]
  },
  {
   "cell_type": "code",
   "execution_count": 9,
   "metadata": {},
   "outputs": [],
   "source": [
    "myFile.write('I love Python')\n",
    "myFile.write(' and Flutter with Dart.')\n",
    "# Closing the file as we are done writing to it.\n",
    "myFile.close()"
   ]
  },
  {
   "cell_type": "markdown",
   "metadata": {},
   "source": [
    "If we want to write some more stuff into this file now (after it has been closed), we can open the file again using the open() but this time we will open it in **append mode** otherwise (if we open in write mode) the file's contents will be overwritten by the new stuff. "
   ]
  },
  {
   "cell_type": "code",
   "execution_count": 10,
   "metadata": {},
   "outputs": [],
   "source": [
    "myNewFile = open('myfile.txt', 'a') #'a' stands for append\n",
    "myNewFile.write('\\nI also like PHP.')\n",
    "myNewFile.close()"
   ]
  },
  {
   "cell_type": "markdown",
   "metadata": {},
   "source": [
    "#### Read from a file - \n",
    "To read from a file, we open it in `r+` mode. "
   ]
  },
  {
   "cell_type": "code",
   "execution_count": 11,
   "metadata": {},
   "outputs": [
    {
     "name": "stdout",
     "output_type": "stream",
     "text": [
      "I love Python and Flutter with Dart.\n",
      "I also like PHP.\n"
     ]
    }
   ],
   "source": [
    "readingFile = open('myfile.txt', 'r+')\n",
    "textRead = readingFile.read(100) #Reading 100 characters\n",
    "print(textRead)"
   ]
  }
 ],
 "metadata": {
  "kernelspec": {
   "display_name": "Python 3",
   "language": "python",
   "name": "python3"
  },
  "language_info": {
   "codemirror_mode": {
    "name": "ipython",
    "version": 3
   },
   "file_extension": ".py",
   "mimetype": "text/x-python",
   "name": "python",
   "nbconvert_exporter": "python",
   "pygments_lexer": "ipython3",
   "version": "3.7.0"
  }
 },
 "nbformat": 4,
 "nbformat_minor": 2
}
